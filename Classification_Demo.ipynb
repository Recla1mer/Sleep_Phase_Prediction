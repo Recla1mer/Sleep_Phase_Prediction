{
 "cells": [
  {
   "cell_type": "markdown",
   "metadata": {},
   "source": [
    "**Author:** *Johannes Peter Knoll*"
   ]
  },
  {
   "cell_type": "markdown",
   "metadata": {},
   "source": [
    "# Introduction\n",
    "\n",
    "Within this notebook you will:\n",
    "- Preprocess raw data\n",
    "- Train Neural Network Model"
   ]
  },
  {
   "cell_type": "code",
   "execution_count": 15,
   "metadata": {},
   "outputs": [
    {
     "name": "stdout",
     "output_type": "stream",
     "text": [
      "The autoreload extension is already loaded. To reload it, use:\n",
      "  %reload_ext autoreload\n"
     ]
    }
   ],
   "source": [
    "# The autoreload extension allows you to tweak the code in the imported modules\n",
    "# and rerun cells to reflect the changes.\n",
    "%load_ext autoreload\n",
    "%autoreload 2\n",
    "\n",
    "%matplotlib inline\n",
    "%config InlineBackend.figure_format = 'retina'"
   ]
  },
  {
   "cell_type": "code",
   "execution_count": 2,
   "metadata": {},
   "outputs": [],
   "source": [
    "# LOCAL IMPORTS\n",
    "from dataset_processing import *\n",
    "\n",
    "# IMPORTS\n",
    "import h5py # type: ignore"
   ]
  },
  {
   "cell_type": "markdown",
   "metadata": {},
   "source": [
    "# Preprocess Training Data"
   ]
  },
  {
   "cell_type": "markdown",
   "metadata": {},
   "source": [
    "## Processing Dataset for Neural Network\n",
    "\n",
    "The class SleepDataManager handles the data we want to pass to the network. It makes the data accessible in\n",
    "a memory saving way, but needs to save it (again) into a pickle file. Of course, you can delete the .h5\n",
    "file afterwards if you want to.\n",
    "\n",
    "We unfortunately have multiple sources (besides the SHHS Dataset) with data that we can train the network on.\n",
    "We need to make sure that the data is uniform in sampling frequency, signal length, etc., which is why we will\n",
    "check and transform each datapoint before (and afterwards saving it) using the SleepDataManager class.\n",
    "\n",
    "During the saving process, the SleepDataManager makes sure that the data is uniform in every way and might\n",
    "perform following actions:\n",
    "- Scale number of datapoints in signal if sampling frequency does not match\n",
    "- Alter sleep stage labels if they do not refer to the same context\n",
    "- Split datapoint into multiple if signal duration is longer than required for the neural network\n",
    "\n",
    "To do all of this, we need to provide more information than the signal itself:"
   ]
  },
  {
   "cell_type": "code",
   "execution_count": null,
   "metadata": {},
   "outputs": [],
   "source": [
    "# Saveable Datapoint:\n",
    "\"\"\"\n",
    "{\n",
    "    \"ID\": str,                  # always required\n",
    "    \"RRI\": np.ndarray,\n",
    "    \"MAD\": np.ndarray,\n",
    "    \"SLP\": np.ndarray,\n",
    "    \"RRI_frequency\": int,       # required if RRI signal is provided\n",
    "    \"MAD_frequency\": int,       # required if MAD signal is provided\n",
    "    \"SLP_frequency\": int,       # required if SLP signal is provided\n",
    "    \"sleep_stage_label\": list   # required if SLP signal is provided\n",
    "} \n",
    "\"\"\""
   ]
  },
  {
   "cell_type": "markdown",
   "metadata": {},
   "source": [
    "Most of the keys are save explaining, except for the last one:\n",
    "\n",
    "We want to assign different sleep stage labels in our network (SSM in the following):\n",
    "\n",
    "|number|SHHS stage|GIF stage|SSM stage|\n",
    "|------|----------|---------|---------|\n",
    "|  0   | wake     |         | wake    |\n",
    "|  1   | N1       |         | LS      |\n",
    "|  2   | N2       |         | DS      |\n",
    "|  3   | N3       |         | REM     |\n",
    "|  5   | REM      |         |         |\n",
    "| other| artifact |         |         |\n",
    "| -1   |          |         | artifact|"
   ]
  },
  {
   "cell_type": "markdown",
   "metadata": {},
   "source": [
    "As you see: N1 needs to be classified as wake, N2 as LS (light sleep), and N3 as DS (deep sleep).\n",
    "To do this, we effectively need to change: \\\n",
    "0 -> 0, 1 -> 0, 2 -> 1, 3 -> 2, 5 -> 3, other -> -1\n",
    "\n",
    "To make this achievable by the algorithm, we just need to say which labels correspond to which stage\n",
    "in the \"sleep_stage_label\" key as follows:"
   ]
  },
  {
   "cell_type": "code",
   "execution_count": 3,
   "metadata": {},
   "outputs": [],
   "source": [
    "shhs_sleep_stage_label = {\"wake\": [0, 1], \"LS\": [2], \"DS\": [3], \"REM\": [5], \"artifect\": [\"other\"]}\n",
    "gif_sleep_stage_label = {\"wake\": [0, 1], \"LS\": [2], \"DS\": [3], \"REM\": [5], \"artifect\": [\"other\"]}"
   ]
  },
  {
   "cell_type": "markdown",
   "metadata": {},
   "source": [
    "## SHHS Dataset\n",
    "\n",
    "The [Sleep Heart Health Study (SHHS)](https://sleepdata.org/datasets/shhs) is a multi-center cohort study implemented by the National Heart Lung & Blood Institute to determine the cardiovascular and other consequences of sleep-disordered breathing."
   ]
  },
  {
   "cell_type": "markdown",
   "metadata": {},
   "source": [
    "### Download Dataset"
   ]
  },
  {
   "cell_type": "code",
   "execution_count": null,
   "metadata": {},
   "outputs": [],
   "source": [
    "# !wget \"https://onedrive.live.com/download?cid=45D5A10F94E33861&resid=45D5A10F94E33861%21248707&authkey=AKRa5kb3XFj4G-o\" -O shhs_dataset.h5"
   ]
  },
  {
   "cell_type": "markdown",
   "metadata": {},
   "source": [
    "### Accessing Dataset"
   ]
  },
  {
   "cell_type": "code",
   "execution_count": 4,
   "metadata": {},
   "outputs": [],
   "source": [
    "#path_to_shhs_dataset = \"../Training_Data/SHHS_dataset.h5\"\n",
    "path_to_shhs_dataset = \"Raw_Data/SHHS_dataset.h5\"\n",
    "\n",
    "shhs_dataset = h5py.File(path_to_shhs_dataset, 'r')"
   ]
  },
  {
   "cell_type": "markdown",
   "metadata": {},
   "source": [
    "### Transfering Data from .h5 into .pkl file using SleepDataManager\n",
    "\n",
    "It is wise to check if all ID's are unique prior to saving. Then we can skip\n",
    "checking every ID in the database when saving each datapoint, which will speed up the saving process greatly."
   ]
  },
  {
   "cell_type": "code",
   "execution_count": 5,
   "metadata": {},
   "outputs": [
    {
     "name": "stdout",
     "output_type": "stream",
     "text": [
      "All IDs are unique.\n"
     ]
    }
   ],
   "source": [
    "# initializing the database\n",
    "path_to_save_processed_shhs_data = \"Processed_Data/shhs_data.pkl\"\n",
    "shhs_data_manager = SleepDataManager(file_path = path_to_save_processed_shhs_data)\n",
    "\n",
    "# accessing patient ids:\n",
    "patients = list(shhs_dataset['slp'].keys()) # type: ignore\n",
    "\n",
    "# check if patient ids are unique:\n",
    "shhs_data_manager.check_if_ids_are_unique(patients)"
   ]
  },
  {
   "cell_type": "markdown",
   "metadata": {},
   "source": [
    "If all ID's are unique, you can continue:"
   ]
  },
  {
   "cell_type": "code",
   "execution_count": 6,
   "metadata": {},
   "outputs": [],
   "source": [
    "# saving all data from SHHS dataset to the shhs_data.pkl file\n",
    "for patient_id in patients:\n",
    "    new_datapoint = {\n",
    "        \"ID\": patient_id,\n",
    "        \"RRI\": shhs_dataset[\"rri\"][patient_id][:], # type: ignore\n",
    "        \"SLP\": shhs_dataset[\"slp\"][patient_id][:], # type: ignore\n",
    "        \"RRI_frequency\": shhs_dataset[\"rri\"].attrs[\"freq\"], # type: ignore\n",
    "        \"SLP_frequency\": shhs_dataset[\"slp\"].attrs[\"freq\"], # type: ignore\n",
    "        \"sleep_stage_label\": copy.deepcopy(shhs_sleep_stage_label)\n",
    "    }\n",
    "\n",
    "    shhs_data_manager.save(new_datapoint, unique_id=True)"
   ]
  },
  {
   "cell_type": "markdown",
   "metadata": {},
   "source": [
    "## GIF Dataset\n",
    "\n",
    "Analogue to the SHHS Dataset, we will save the data to our SleepDataManager and transform it into windows."
   ]
  },
  {
   "cell_type": "code",
   "execution_count": null,
   "metadata": {},
   "outputs": [],
   "source": [
    "# relevant_keys = [\"file_name\", \"RRI\", \"RRI_frequency\", \"MAD\", \"MAD_frequency\", \"SLP\"]\n",
    "# results_generator = load_from_pickle(\"Processed_GIF/GIF_Results.pkl\")"
   ]
  },
  {
   "cell_type": "markdown",
   "metadata": {},
   "source": [
    "### Accessing Dataset"
   ]
  },
  {
   "cell_type": "code",
   "execution_count": 7,
   "metadata": {},
   "outputs": [],
   "source": [
    "path_to_gif_dataset = \"Raw_Data/GIF_dataset.h5\"\n",
    "\n",
    "gif_dataset = h5py.File(path_to_gif_dataset, 'r')"
   ]
  },
  {
   "cell_type": "markdown",
   "metadata": {},
   "source": [
    "### Transfering Data from .h5 into .pkl file using SleepDataManager"
   ]
  },
  {
   "cell_type": "code",
   "execution_count": 8,
   "metadata": {},
   "outputs": [
    {
     "name": "stdout",
     "output_type": "stream",
     "text": [
      "All IDs are unique.\n"
     ]
    }
   ],
   "source": [
    "# initializing the database\n",
    "path_to_save_processed_gif_data = \"Processed_Data/gif_data.pkl\"\n",
    "gif_data_manager = SleepDataManager(file_path = path_to_save_processed_gif_data)\n",
    "\n",
    "# accessing patient ids:\n",
    "patients = list(gif_dataset['stage'].keys()) # type: ignore\n",
    "\n",
    "# check if patient ids are unique:\n",
    "gif_data_manager.check_if_ids_are_unique(patients)"
   ]
  },
  {
   "cell_type": "code",
   "execution_count": 9,
   "metadata": {},
   "outputs": [
    {
     "name": "stdout",
     "output_type": "stream",
     "text": [
      "293 ['SL003', 'SL005', 'SL006', 'SL008', 'SL009', 'SL010', 'SL012', 'SL013', 'SL014', 'SL015', 'SL017', 'SL018', 'SL019', 'SL020', 'SL021', 'SL022', 'SL024', 'SL026', 'SL028', 'SL029', 'SL030', 'SL031', 'SL033', 'SL035', 'SL036', 'SL038', 'SL039', 'SL041', 'SL042', 'SL043', 'SL044', 'SL045', 'SL046', 'SL047', 'SL048', 'SL049', 'SL050', 'SL051', 'SL052', 'SL053', 'SL054', 'SL056', 'SL058', 'SL059', 'SL060', 'SL062', 'SL063', 'SL064', 'SL065', 'SL067', 'SL068', 'SL069', 'SL070', 'SL071', 'SL072', 'SL074', 'SL077', 'SL078', 'SL080', 'SL081', 'SL082', 'SL084', 'SL086', 'SL092', 'SL093', 'SL094', 'SL095', 'SL097', 'SL099', 'SL102', 'SL103', 'SL104', 'SL106', 'SL107', 'SL108', 'SL109', 'SL110', 'SL112', 'SL113', 'SL115', 'SL117', 'SL118', 'SL119', 'SL120', 'SL121', 'SL122', 'SL123', 'SL124', 'SL125', 'SL127', 'SL128', 'SL129', 'SL130', 'SL131', 'SL134', 'SL135', 'SL136', 'SL137', 'SL139', 'SL140', 'SL142', 'SL143', 'SL144', 'SL146', 'SL147', 'SL148', 'SL149', 'SL150', 'SL152', 'SL153', 'SL154', 'SL155', 'SL156', 'SL158', 'SL160', 'SL161', 'SL162', 'SL163', 'SL164', 'SL167', 'SL168', 'SL169', 'SL170', 'SL171', 'SL172', 'SL175', 'SL177', 'SL180', 'SL181', 'SL182', 'SL183', 'SL184', 'SL185', 'SL187', 'SL188', 'SL189', 'SL190', 'SL191', 'SL192', 'SL194', 'SL195', 'SL196', 'SL197', 'SL198', 'SL200', 'SL201', 'SL206', 'SL212', 'SL213', 'SL215', 'SL220', 'SL222', 'SL223', 'SL224', 'SL225', 'SL226', 'SL230', 'SL231', 'SL232', 'SL233', 'SL234', 'SL235', 'SL238', 'SL239', 'SL241', 'SL242', 'SL243', 'SL244', 'SL251', 'SL253', 'SL254', 'SL256', 'SL258', 'SL259', 'SL260', 'SL261', 'SL262', 'SL263', 'SL264', 'SL265', 'SL266', 'SL267', 'SL270', 'SL271', 'SL272', 'SL273', 'SL274', 'SL275', 'SL276', 'SL277', 'SL278', 'SL279', 'SL280', 'SL281', 'SL282', 'SL283', 'SL284', 'SL285', 'SL287', 'SL288', 'SL289', 'SL291', 'SL292', 'SL295', 'SL296', 'SL297', 'SL298', 'SL299', 'SL300', 'SL301', 'SL302', 'SL303', 'SL304', 'SL306', 'SL307', 'SL308', 'SL309', 'SL310', 'SL311', 'SL312', 'SL313', 'SL314', 'SL317', 'SL318', 'SL319', 'SL320', 'SL321', 'SL323', 'SL324', 'SL325', 'SL326', 'SL327', 'SL329', 'SL330', 'SL331', 'SL334', 'SL335', 'SL337', 'SL338', 'SL339', 'SL340', 'SL343', 'SL345', 'SL346', 'SL347', 'SL350', 'SL351', 'SL352', 'SL353', 'SL354', 'SL355', 'SL356', 'SL357', 'SL358', 'SL360', 'SL361', 'SL362', 'SL363', 'SL364', 'SL366', 'SL367', 'SL368', 'SL369', 'SL370', 'SL371', 'SL372', 'SL373', 'SL374', 'SL375', 'SL376', 'SL377', 'SL378', 'SL379', 'SL381', 'SL383', 'SL385', 'SL387', 'SL388', 'SL390', 'SL391', 'SL393', 'SL394', 'SL395', 'SL396', 'SL398', 'SL400', 'SL401', 'SL402', 'SL403', 'SL404', 'SL405', 'SL407', 'SL409']\n",
      "1\n",
      "4\n",
      "1\n",
      "1439 [0. 0. 0. 0. 0. 0. 0. 0. 0. 0. 0. 0. 0. 0. 0. 0. 0. 0. 0. 0. 0. 0. 0. 0.\n",
      " 0. 0. 0. 0. 0. 0. 0. 0. 1. 0. 0. 0. 1. 1. 2. 2. 2. 2. 2. 2. 2. 2. 2. 2.\n",
      " 2. 1. 2. 2. 2. 2. 2. 2. 2. 2. 2. 3. 3. 3. 3. 3. 3. 3. 3. 3. 3. 3. 3. 3.\n",
      " 3. 3. 3. 3. 3. 3. 3. 3. 3. 3. 3. 3. 3. 3. 3. 3. 3. 3. 3. 3. 3. 3. 3. 3.\n",
      " 3. 3. 3. 3.]\n",
      "172680\n",
      "43170\n"
     ]
    }
   ],
   "source": [
    "print(len(patients), patients)\n",
    "print(gif_dataset[\"stage\"].attrs[\"freq\"])\n",
    "print(gif_dataset[\"rri\"].attrs[\"freq\"])\n",
    "print(gif_dataset[\"mad\"].attrs[\"freq\"])\n",
    "sleep = gif_dataset[\"stage\"][\"SL003\"][:]\n",
    "rri = gif_dataset[\"rri\"][\"SL003\"][:]\n",
    "mad = gif_dataset[\"mad\"][\"SL003\"][:]\n",
    "print(len(sleep), sleep[400:500])\n",
    "print(len(rri))\n",
    "print(len(mad))"
   ]
  },
  {
   "cell_type": "markdown",
   "metadata": {},
   "source": [
    "If all ID's are unique, you can continue:"
   ]
  },
  {
   "cell_type": "code",
   "execution_count": 10,
   "metadata": {},
   "outputs": [
    {
     "name": "stdout",
     "output_type": "stream",
     "text": [
      "\n",
      "WARNING: Sleep labels are of type float. Converting to int.\n",
      "\n",
      "WARNING: Sleep labels are of type float. Converting to int.\n",
      "\n",
      "WARNING: Sleep labels are of type float. Converting to int.\n",
      "\n",
      "WARNING: Sleep labels are of type float. Converting to int.\n",
      "\n",
      "WARNING: Sleep labels are of type float. Converting to int.\n",
      "\n",
      "WARNING: Sleep labels are of type float. Converting to int.\n",
      "\n",
      "WARNING: Sleep labels are of type float. Converting to int.\n",
      "\n",
      "WARNING: Sleep labels are of type float. Converting to int.\n",
      "\n",
      "WARNING: Sleep labels are of type float. Converting to int.\n",
      "\n",
      "WARNING: Sleep labels are of type float. Converting to int.\n",
      "\n",
      "WARNING: Sleep labels are of type float. Converting to int.\n",
      "\n",
      "WARNING: Sleep labels are of type float. Converting to int.\n",
      "\n",
      "WARNING: Sleep labels are of type float. Converting to int.\n",
      "\n",
      "WARNING: Sleep labels are of type float. Converting to int.\n",
      "\n",
      "WARNING: Sleep labels are of type float. Converting to int.\n",
      "\n",
      "WARNING: Sleep labels are of type float. Converting to int.\n",
      "\n",
      "WARNING: Sleep labels are of type float. Converting to int.\n",
      "\n",
      "WARNING: Sleep labels are of type float. Converting to int.\n",
      "\n",
      "WARNING: Sleep labels are of type float. Converting to int.\n",
      "\n",
      "WARNING: Sleep labels are of type float. Converting to int.\n",
      "\n",
      "WARNING: Sleep labels are of type float. Converting to int.\n",
      "\n",
      "WARNING: Sleep labels are of type float. Converting to int.\n",
      "\n",
      "WARNING: Sleep labels are of type float. Converting to int.\n",
      "\n",
      "WARNING: Sleep labels are of type float. Converting to int.\n",
      "\n",
      "WARNING: Sleep labels are of type float. Converting to int.\n",
      "\n",
      "WARNING: Sleep labels are of type float. Converting to int.\n",
      "\n",
      "WARNING: Sleep labels are of type float. Converting to int.\n",
      "\n",
      "WARNING: Sleep labels are of type float. Converting to int.\n",
      "\n",
      "WARNING: Sleep labels are of type float. Converting to int.\n",
      "\n",
      "WARNING: Sleep labels are of type float. Converting to int.\n",
      "\n",
      "WARNING: Sleep labels are of type float. Converting to int.\n",
      "\n",
      "WARNING: Sleep labels are of type float. Converting to int.\n",
      "\n",
      "WARNING: Sleep labels are of type float. Converting to int.\n",
      "\n",
      "WARNING: Sleep labels are of type float. Converting to int.\n",
      "\n",
      "WARNING: Sleep labels are of type float. Converting to int.\n",
      "\n",
      "WARNING: Sleep labels are of type float. Converting to int.\n",
      "\n",
      "WARNING: Sleep labels are of type float. Converting to int.\n",
      "\n",
      "WARNING: Sleep labels are of type float. Converting to int.\n",
      "\n",
      "WARNING: Sleep labels are of type float. Converting to int.\n",
      "\n",
      "WARNING: Sleep labels are of type float. Converting to int.\n",
      "\n",
      "WARNING: Sleep labels are of type float. Converting to int.\n",
      "\n",
      "WARNING: Sleep labels are of type float. Converting to int.\n",
      "\n",
      "WARNING: Sleep labels are of type float. Converting to int.\n",
      "\n",
      "WARNING: Sleep labels are of type float. Converting to int.\n",
      "\n",
      "WARNING: Sleep labels are of type float. Converting to int.\n",
      "\n",
      "WARNING: Sleep labels are of type float. Converting to int.\n",
      "\n",
      "WARNING: Sleep labels are of type float. Converting to int.\n",
      "\n",
      "WARNING: Sleep labels are of type float. Converting to int.\n",
      "\n",
      "WARNING: Sleep labels are of type float. Converting to int.\n",
      "\n",
      "WARNING: Sleep labels are of type float. Converting to int.\n",
      "\n",
      "WARNING: Sleep labels are of type float. Converting to int.\n",
      "\n",
      "WARNING: Sleep labels are of type float. Converting to int.\n",
      "\n",
      "WARNING: Sleep labels are of type float. Converting to int.\n",
      "\n",
      "WARNING: Sleep labels are of type float. Converting to int.\n",
      "\n",
      "WARNING: Sleep labels are of type float. Converting to int.\n",
      "\n",
      "WARNING: Sleep labels are of type float. Converting to int.\n",
      "\n",
      "WARNING: Sleep labels are of type float. Converting to int.\n",
      "\n",
      "WARNING: Sleep labels are of type float. Converting to int.\n",
      "\n",
      "WARNING: Sleep labels are of type float. Converting to int.\n",
      "\n",
      "WARNING: Sleep labels are of type float. Converting to int.\n",
      "\n",
      "WARNING: Sleep labels are of type float. Converting to int.\n",
      "\n",
      "WARNING: Sleep labels are of type float. Converting to int.\n",
      "\n",
      "WARNING: Sleep labels are of type float. Converting to int.\n",
      "\n",
      "WARNING: Sleep labels are of type float. Converting to int.\n",
      "\n",
      "WARNING: Sleep labels are of type float. Converting to int.\n",
      "\n",
      "WARNING: Sleep labels are of type float. Converting to int.\n",
      "\n",
      "WARNING: Sleep labels are of type float. Converting to int.\n",
      "\n",
      "WARNING: Sleep labels are of type float. Converting to int.\n",
      "\n",
      "WARNING: Sleep labels are of type float. Converting to int.\n",
      "\n",
      "WARNING: Sleep labels are of type float. Converting to int.\n",
      "\n",
      "WARNING: Sleep labels are of type float. Converting to int.\n",
      "\n",
      "WARNING: Sleep labels are of type float. Converting to int.\n",
      "\n",
      "WARNING: Sleep labels are of type float. Converting to int.\n",
      "\n",
      "WARNING: Sleep labels are of type float. Converting to int.\n",
      "\n",
      "WARNING: Sleep labels are of type float. Converting to int.\n",
      "\n",
      "WARNING: Sleep labels are of type float. Converting to int.\n",
      "\n",
      "WARNING: Sleep labels are of type float. Converting to int.\n",
      "\n",
      "WARNING: Sleep labels are of type float. Converting to int.\n",
      "\n",
      "WARNING: Sleep labels are of type float. Converting to int.\n",
      "\n",
      "WARNING: Sleep labels are of type float. Converting to int.\n",
      "\n",
      "WARNING: Sleep labels are of type float. Converting to int.\n",
      "\n",
      "WARNING: Sleep labels are of type float. Converting to int.\n",
      "\n",
      "WARNING: Sleep labels are of type float. Converting to int.\n",
      "\n",
      "WARNING: Sleep labels are of type float. Converting to int.\n",
      "\n",
      "WARNING: Sleep labels are of type float. Converting to int.\n",
      "\n",
      "WARNING: Sleep labels are of type float. Converting to int.\n",
      "\n",
      "WARNING: Sleep labels are of type float. Converting to int.\n",
      "\n",
      "WARNING: Sleep labels are of type float. Converting to int.\n",
      "\n",
      "WARNING: Sleep labels are of type float. Converting to int.\n",
      "\n",
      "WARNING: Sleep labels are of type float. Converting to int.\n",
      "\n",
      "WARNING: Sleep labels are of type float. Converting to int.\n",
      "\n",
      "WARNING: Sleep labels are of type float. Converting to int.\n",
      "\n",
      "WARNING: Sleep labels are of type float. Converting to int.\n",
      "\n",
      "WARNING: Sleep labels are of type float. Converting to int.\n",
      "\n",
      "WARNING: Sleep labels are of type float. Converting to int.\n",
      "\n",
      "WARNING: Sleep labels are of type float. Converting to int.\n",
      "\n",
      "WARNING: Sleep labels are of type float. Converting to int.\n",
      "\n",
      "WARNING: Sleep labels are of type float. Converting to int.\n",
      "\n",
      "WARNING: Sleep labels are of type float. Converting to int.\n",
      "\n",
      "WARNING: Sleep labels are of type float. Converting to int.\n",
      "\n",
      "WARNING: Sleep labels are of type float. Converting to int.\n",
      "\n",
      "WARNING: Sleep labels are of type float. Converting to int.\n",
      "\n",
      "WARNING: Sleep labels are of type float. Converting to int.\n",
      "\n",
      "WARNING: Sleep labels are of type float. Converting to int.\n",
      "\n",
      "WARNING: Sleep labels are of type float. Converting to int.\n",
      "\n",
      "WARNING: Sleep labels are of type float. Converting to int.\n",
      "\n",
      "WARNING: Sleep labels are of type float. Converting to int.\n",
      "\n",
      "WARNING: Sleep labels are of type float. Converting to int.\n",
      "\n",
      "WARNING: Sleep labels are of type float. Converting to int.\n",
      "\n",
      "WARNING: Sleep labels are of type float. Converting to int.\n",
      "\n",
      "WARNING: Sleep labels are of type float. Converting to int.\n",
      "\n",
      "WARNING: Sleep labels are of type float. Converting to int.\n",
      "\n",
      "WARNING: Sleep labels are of type float. Converting to int.\n",
      "\n",
      "WARNING: Sleep labels are of type float. Converting to int.\n",
      "\n",
      "WARNING: Sleep labels are of type float. Converting to int.\n",
      "\n",
      "WARNING: Sleep labels are of type float. Converting to int.\n",
      "\n",
      "WARNING: Sleep labels are of type float. Converting to int.\n",
      "\n",
      "WARNING: Sleep labels are of type float. Converting to int.\n",
      "\n",
      "WARNING: Sleep labels are of type float. Converting to int.\n",
      "\n",
      "WARNING: Sleep labels are of type float. Converting to int.\n",
      "\n",
      "WARNING: Sleep labels are of type float. Converting to int.\n",
      "\n",
      "WARNING: Sleep labels are of type float. Converting to int.\n",
      "\n",
      "WARNING: Sleep labels are of type float. Converting to int.\n",
      "\n",
      "WARNING: Sleep labels are of type float. Converting to int.\n",
      "\n",
      "WARNING: Sleep labels are of type float. Converting to int.\n",
      "\n",
      "WARNING: Sleep labels are of type float. Converting to int.\n",
      "\n",
      "WARNING: Sleep labels are of type float. Converting to int.\n",
      "\n",
      "WARNING: Sleep labels are of type float. Converting to int.\n",
      "\n",
      "WARNING: Sleep labels are of type float. Converting to int.\n",
      "\n",
      "WARNING: Sleep labels are of type float. Converting to int.\n",
      "\n",
      "WARNING: Sleep labels are of type float. Converting to int.\n",
      "\n",
      "WARNING: Sleep labels are of type float. Converting to int.\n",
      "\n",
      "WARNING: Sleep labels are of type float. Converting to int.\n",
      "\n",
      "WARNING: Sleep labels are of type float. Converting to int.\n",
      "\n",
      "WARNING: Sleep labels are of type float. Converting to int.\n",
      "\n",
      "WARNING: Sleep labels are of type float. Converting to int.\n",
      "\n",
      "WARNING: Sleep labels are of type float. Converting to int.\n",
      "\n",
      "WARNING: Sleep labels are of type float. Converting to int.\n",
      "\n",
      "WARNING: Sleep labels are of type float. Converting to int.\n",
      "\n",
      "WARNING: Sleep labels are of type float. Converting to int.\n",
      "\n",
      "WARNING: Sleep labels are of type float. Converting to int.\n",
      "\n",
      "WARNING: Sleep labels are of type float. Converting to int.\n",
      "\n",
      "WARNING: Sleep labels are of type float. Converting to int.\n",
      "\n",
      "WARNING: Sleep labels are of type float. Converting to int.\n",
      "\n",
      "WARNING: Sleep labels are of type float. Converting to int.\n",
      "\n",
      "WARNING: Sleep labels are of type float. Converting to int.\n",
      "\n",
      "WARNING: Sleep labels are of type float. Converting to int.\n",
      "\n",
      "WARNING: Sleep labels are of type float. Converting to int.\n",
      "\n",
      "WARNING: Sleep labels are of type float. Converting to int.\n",
      "\n",
      "WARNING: Sleep labels are of type float. Converting to int.\n",
      "\n",
      "WARNING: Sleep labels are of type float. Converting to int.\n",
      "\n",
      "WARNING: Sleep labels are of type float. Converting to int.\n",
      "\n",
      "WARNING: Sleep labels are of type float. Converting to int.\n",
      "\n",
      "WARNING: Sleep labels are of type float. Converting to int.\n",
      "\n",
      "WARNING: Sleep labels are of type float. Converting to int.\n",
      "\n",
      "WARNING: Sleep labels are of type float. Converting to int.\n",
      "\n",
      "WARNING: Sleep labels are of type float. Converting to int.\n",
      "\n",
      "WARNING: Sleep labels are of type float. Converting to int.\n",
      "\n",
      "WARNING: Sleep labels are of type float. Converting to int.\n",
      "\n",
      "WARNING: Sleep labels are of type float. Converting to int.\n",
      "\n",
      "WARNING: Sleep labels are of type float. Converting to int.\n",
      "\n",
      "WARNING: Sleep labels are of type float. Converting to int.\n",
      "\n",
      "WARNING: Sleep labels are of type float. Converting to int.\n",
      "\n",
      "WARNING: Sleep labels are of type float. Converting to int.\n",
      "\n",
      "WARNING: Sleep labels are of type float. Converting to int.\n",
      "\n",
      "WARNING: Sleep labels are of type float. Converting to int.\n",
      "\n",
      "WARNING: Sleep labels are of type float. Converting to int.\n",
      "\n",
      "WARNING: Sleep labels are of type float. Converting to int.\n",
      "\n",
      "WARNING: Sleep labels are of type float. Converting to int.\n",
      "\n",
      "WARNING: Sleep labels are of type float. Converting to int.\n",
      "\n",
      "WARNING: Sleep labels are of type float. Converting to int.\n",
      "\n",
      "WARNING: Sleep labels are of type float. Converting to int.\n",
      "\n",
      "WARNING: Sleep labels are of type float. Converting to int.\n",
      "\n",
      "WARNING: Sleep labels are of type float. Converting to int.\n",
      "\n",
      "WARNING: Sleep labels are of type float. Converting to int.\n",
      "\n",
      "WARNING: Sleep labels are of type float. Converting to int.\n",
      "\n",
      "WARNING: Sleep labels are of type float. Converting to int.\n",
      "\n",
      "WARNING: Sleep labels are of type float. Converting to int.\n",
      "\n",
      "WARNING: Sleep labels are of type float. Converting to int.\n",
      "\n",
      "WARNING: Sleep labels are of type float. Converting to int.\n",
      "\n",
      "WARNING: Sleep labels are of type float. Converting to int.\n",
      "\n",
      "WARNING: Sleep labels are of type float. Converting to int.\n",
      "\n",
      "WARNING: Sleep labels are of type float. Converting to int.\n",
      "\n",
      "WARNING: Sleep labels are of type float. Converting to int.\n",
      "\n",
      "WARNING: Sleep labels are of type float. Converting to int.\n",
      "\n",
      "WARNING: Sleep labels are of type float. Converting to int.\n",
      "\n",
      "WARNING: Sleep labels are of type float. Converting to int.\n",
      "\n",
      "WARNING: Sleep labels are of type float. Converting to int.\n",
      "\n",
      "WARNING: Sleep labels are of type float. Converting to int.\n",
      "\n",
      "WARNING: Sleep labels are of type float. Converting to int.\n",
      "\n",
      "WARNING: Sleep labels are of type float. Converting to int.\n",
      "\n",
      "WARNING: Sleep labels are of type float. Converting to int.\n",
      "\n",
      "WARNING: Sleep labels are of type float. Converting to int.\n",
      "\n",
      "WARNING: Sleep labels are of type float. Converting to int.\n",
      "\n",
      "WARNING: Sleep labels are of type float. Converting to int.\n",
      "\n",
      "WARNING: Sleep labels are of type float. Converting to int.\n",
      "\n",
      "WARNING: Sleep labels are of type float. Converting to int.\n",
      "\n",
      "WARNING: Sleep labels are of type float. Converting to int.\n",
      "\n",
      "WARNING: Sleep labels are of type float. Converting to int.\n",
      "\n",
      "WARNING: Sleep labels are of type float. Converting to int.\n",
      "\n",
      "WARNING: Sleep labels are of type float. Converting to int.\n",
      "\n",
      "WARNING: Sleep labels are of type float. Converting to int.\n",
      "\n",
      "WARNING: Sleep labels are of type float. Converting to int.\n",
      "\n",
      "WARNING: Sleep labels are of type float. Converting to int.\n",
      "\n",
      "WARNING: Sleep labels are of type float. Converting to int.\n",
      "\n",
      "WARNING: Sleep labels are of type float. Converting to int.\n",
      "\n",
      "WARNING: Sleep labels are of type float. Converting to int.\n",
      "\n",
      "WARNING: Sleep labels are of type float. Converting to int.\n",
      "\n",
      "WARNING: Sleep labels are of type float. Converting to int.\n",
      "\n",
      "WARNING: Sleep labels are of type float. Converting to int.\n",
      "\n",
      "WARNING: Sleep labels are of type float. Converting to int.\n",
      "\n",
      "WARNING: Sleep labels are of type float. Converting to int.\n",
      "\n",
      "WARNING: Sleep labels are of type float. Converting to int.\n",
      "\n",
      "WARNING: Sleep labels are of type float. Converting to int.\n",
      "\n",
      "WARNING: Sleep labels are of type float. Converting to int.\n",
      "\n",
      "WARNING: Sleep labels are of type float. Converting to int.\n",
      "\n",
      "WARNING: Sleep labels are of type float. Converting to int.\n",
      "\n",
      "WARNING: Sleep labels are of type float. Converting to int.\n",
      "\n",
      "WARNING: Sleep labels are of type float. Converting to int.\n",
      "\n",
      "WARNING: Sleep labels are of type float. Converting to int.\n",
      "\n",
      "WARNING: Sleep labels are of type float. Converting to int.\n",
      "\n",
      "WARNING: Sleep labels are of type float. Converting to int.\n",
      "\n",
      "WARNING: Sleep labels are of type float. Converting to int.\n",
      "\n",
      "WARNING: Sleep labels are of type float. Converting to int.\n",
      "\n",
      "WARNING: Sleep labels are of type float. Converting to int.\n",
      "\n",
      "WARNING: Sleep labels are of type float. Converting to int.\n",
      "\n",
      "WARNING: Sleep labels are of type float. Converting to int.\n",
      "\n",
      "WARNING: Sleep labels are of type float. Converting to int.\n",
      "\n",
      "WARNING: Sleep labels are of type float. Converting to int.\n",
      "\n",
      "WARNING: Sleep labels are of type float. Converting to int.\n",
      "\n",
      "WARNING: Sleep labels are of type float. Converting to int.\n",
      "\n",
      "WARNING: Sleep labels are of type float. Converting to int.\n",
      "\n",
      "WARNING: Sleep labels are of type float. Converting to int.\n",
      "\n",
      "WARNING: Sleep labels are of type float. Converting to int.\n",
      "\n",
      "WARNING: Sleep labels are of type float. Converting to int.\n",
      "\n",
      "WARNING: Sleep labels are of type float. Converting to int.\n",
      "\n",
      "WARNING: Sleep labels are of type float. Converting to int.\n",
      "\n",
      "WARNING: Sleep labels are of type float. Converting to int.\n",
      "\n",
      "WARNING: Sleep labels are of type float. Converting to int.\n",
      "\n",
      "WARNING: Sleep labels are of type float. Converting to int.\n",
      "\n",
      "WARNING: Sleep labels are of type float. Converting to int.\n",
      "\n",
      "WARNING: Sleep labels are of type float. Converting to int.\n",
      "\n",
      "WARNING: Sleep labels are of type float. Converting to int.\n",
      "\n",
      "WARNING: Sleep labels are of type float. Converting to int.\n",
      "\n",
      "WARNING: Sleep labels are of type float. Converting to int.\n",
      "\n",
      "WARNING: Sleep labels are of type float. Converting to int.\n",
      "\n",
      "WARNING: Sleep labels are of type float. Converting to int.\n",
      "\n",
      "WARNING: Sleep labels are of type float. Converting to int.\n",
      "\n",
      "WARNING: Sleep labels are of type float. Converting to int.\n",
      "\n",
      "WARNING: Sleep labels are of type float. Converting to int.\n",
      "\n",
      "WARNING: Sleep labels are of type float. Converting to int.\n",
      "\n",
      "WARNING: Sleep labels are of type float. Converting to int.\n",
      "\n",
      "WARNING: Sleep labels are of type float. Converting to int.\n",
      "\n",
      "WARNING: Sleep labels are of type float. Converting to int.\n",
      "\n",
      "WARNING: Sleep labels are of type float. Converting to int.\n",
      "\n",
      "WARNING: Sleep labels are of type float. Converting to int.\n",
      "\n",
      "WARNING: Sleep labels are of type float. Converting to int.\n",
      "\n",
      "WARNING: Sleep labels are of type float. Converting to int.\n",
      "\n",
      "WARNING: Sleep labels are of type float. Converting to int.\n",
      "\n",
      "WARNING: Sleep labels are of type float. Converting to int.\n",
      "\n",
      "WARNING: Sleep labels are of type float. Converting to int.\n",
      "\n",
      "WARNING: Sleep labels are of type float. Converting to int.\n",
      "\n",
      "WARNING: Sleep labels are of type float. Converting to int.\n",
      "\n",
      "WARNING: Sleep labels are of type float. Converting to int.\n",
      "\n",
      "WARNING: Sleep labels are of type float. Converting to int.\n",
      "\n",
      "WARNING: Sleep labels are of type float. Converting to int.\n",
      "\n",
      "WARNING: Sleep labels are of type float. Converting to int.\n",
      "\n",
      "WARNING: Sleep labels are of type float. Converting to int.\n",
      "\n",
      "WARNING: Sleep labels are of type float. Converting to int.\n",
      "\n",
      "WARNING: Sleep labels are of type float. Converting to int.\n",
      "\n",
      "WARNING: Sleep labels are of type float. Converting to int.\n",
      "\n",
      "WARNING: Sleep labels are of type float. Converting to int.\n",
      "\n",
      "WARNING: Sleep labels are of type float. Converting to int.\n",
      "\n",
      "WARNING: Sleep labels are of type float. Converting to int.\n",
      "\n",
      "WARNING: Sleep labels are of type float. Converting to int.\n",
      "\n",
      "WARNING: Sleep labels are of type float. Converting to int.\n",
      "\n",
      "WARNING: Sleep labels are of type float. Converting to int.\n",
      "\n",
      "WARNING: Sleep labels are of type float. Converting to int.\n",
      "\n",
      "WARNING: Sleep labels are of type float. Converting to int.\n",
      "\n",
      "WARNING: Sleep labels are of type float. Converting to int.\n",
      "\n",
      "WARNING: Sleep labels are of type float. Converting to int.\n",
      "\n",
      "WARNING: Sleep labels are of type float. Converting to int.\n",
      "\n",
      "WARNING: Sleep labels are of type float. Converting to int.\n",
      "\n",
      "WARNING: Sleep labels are of type float. Converting to int.\n",
      "\n",
      "WARNING: Sleep labels are of type float. Converting to int.\n",
      "\n",
      "WARNING: Sleep labels are of type float. Converting to int.\n",
      "\n",
      "WARNING: Sleep labels are of type float. Converting to int.\n",
      "\n",
      "WARNING: Sleep labels are of type float. Converting to int.\n",
      "\n",
      "WARNING: Sleep labels are of type float. Converting to int.\n",
      "\n",
      "WARNING: Sleep labels are of type float. Converting to int.\n",
      "\n",
      "WARNING: Sleep labels are of type float. Converting to int.\n",
      "\n",
      "WARNING: Sleep labels are of type float. Converting to int.\n",
      "\n",
      "WARNING: Sleep labels are of type float. Converting to int.\n"
     ]
    }
   ],
   "source": [
    "# saving all data from GIF dataset to the gif_data.pkl file\n",
    "for patient_id in patients:\n",
    "    new_datapoint = {\n",
    "        \"ID\": patient_id,\n",
    "        \"RRI\": gif_dataset[\"rri\"][patient_id][:], # type: ignore\n",
    "        \"MAD\": gif_dataset[\"mad\"][patient_id][:], # type: ignore\n",
    "        \"SLP\": gif_dataset[\"stage\"][patient_id][:], # type: ignore\n",
    "        \"RRI_frequency\": gif_dataset[\"rri\"].attrs[\"freq\"], # type: ignore\n",
    "        \"MAD_frequency\": gif_dataset[\"mad\"].attrs[\"freq\"], # type: ignore\n",
    "        \"SLP_frequency\": 1/30, # type: ignore\n",
    "        \"sleep_stage_label\": copy.deepcopy(gif_sleep_stage_label)\n",
    "    }\n",
    "\n",
    "    gif_data_manager.save(new_datapoint, unique_id=True)"
   ]
  },
  {
   "cell_type": "markdown",
   "metadata": {},
   "source": [
    "## Create Training-, Validation- and Test- Datasets\n",
    "\n",
    "For easier application we will split our database into main-, training-, validation- and test- files:"
   ]
  },
  {
   "cell_type": "code",
   "execution_count": 7,
   "metadata": {},
   "outputs": [],
   "source": [
    "shhs_data_manager.separate_train_test_validation(\n",
    "    train_size = 0.8, \n",
    "    validation_size = 0.1, \n",
    "    test_size = 0.1, \n",
    "    random_state = None, \n",
    "    shuffle = True\n",
    ")"
   ]
  },
  {
   "cell_type": "code",
   "execution_count": null,
   "metadata": {},
   "outputs": [],
   "source": [
    "gif_data_manager.separate_train_test_validation(\n",
    "    train_size = 0.8, \n",
    "    validation_size = 0.1, \n",
    "    test_size = 0.1, \n",
    "    random_state = None, \n",
    "    shuffle = True\n",
    ")"
   ]
  },
  {
   "cell_type": "markdown",
   "metadata": {},
   "source": [
    "We should now have 3 additional files in the same directory where our processed data is saved.\n",
    "\n",
    "Each could be accessed separately with another instance of the class SleepDataManager. Note that their functionality\n",
    "is limited, as they are only meant to return (load) data.\n",
    "\n",
    "The data in these files can be reshuffled by calling the above code cell again."
   ]
  },
  {
   "cell_type": "markdown",
   "metadata": {},
   "source": [
    "# Neural Network\n",
    "\n",
    "Now that we ensured to have uniform data, splitted into training-, validation- and test data, we can \n",
    "continue to pass it to the neural network.\n",
    "\n",
    "The following code is designed to have the same structure as taught in the [PyTorch Tutorials](https://pytorch.org/tutorials/beginner/basics/)"
   ]
  },
  {
   "cell_type": "code",
   "execution_count": 5,
   "metadata": {},
   "outputs": [],
   "source": [
    "# LOCAL IMPORTS\n",
    "from neural_network_model import *"
   ]
  },
  {
   "cell_type": "markdown",
   "metadata": {},
   "source": [
    "## Accessing Datasets\n",
    "\n",
    "We now want to access our training-, validation- and test- data using a custom dataset class.\n",
    "\n",
    "This class will access the data using the SleepDataManager class and will be transforming the signals\n",
    "into overlapping windows before returning them."
   ]
  },
  {
   "cell_type": "code",
   "execution_count": 6,
   "metadata": {},
   "outputs": [],
   "source": [
    "# repeating path for quicker access to this section:\n",
    "path_to_save_processed_shhs_data = \"Processed_Data/shhs_data.pkl\"\n",
    "\n",
    "shhs_training_data_path = path_to_save_processed_shhs_data[:-4] + \"_training_pid.pkl\"\n",
    "shhs_validation_data_path = path_to_save_processed_shhs_data[:-4] + \"_validation_pid.pkl\"\n",
    "shhs_test_data_path = path_to_save_processed_shhs_data[:-4] + \"_test_pid.pkl\"\n",
    "\n",
    "apply_transformation = ToTensor()\n",
    "\n",
    "shhs_training_data = CustomSleepDataset(path_to_data = shhs_training_data_path, transform = apply_transformation)\n",
    "shhs_validation_data = CustomSleepDataset(path_to_data = shhs_validation_data_path, transform = apply_transformation)\n",
    "shhs_test_data = CustomSleepDataset(path_to_data = shhs_test_data_path, transform = apply_transformation)"
   ]
  },
  {
   "cell_type": "code",
   "execution_count": null,
   "metadata": {},
   "outputs": [],
   "source": [
    "# repeating path for quicker access to this section:\n",
    "path_to_save_processed_gif_data = \"Processed_Data/gif_data.pkl\"\n",
    "\n",
    "gif_training_data_path = path_to_save_processed_gif_data[:-4] + \"_training_pid.pkl\"\n",
    "gif_validation_data_path = path_to_save_processed_gif_data[:-4] + \"_validation_pid.pkl\"\n",
    "gif_test_data_path = path_to_save_processed_gif_data[:-4] + \"_test_pid.pkl\"\n",
    "\n",
    "gif_training_data = CustomSleepDataset(path_to_data = gif_training_data_path, transform = apply_transformation)\n",
    "gif_validation_data = CustomSleepDataset(path_to_data = gif_validation_data_path, transform = apply_transformation)\n",
    "gif_test_data = CustomSleepDataset(path_to_data = gif_test_data_path, transform = apply_transformation)"
   ]
  },
  {
   "cell_type": "markdown",
   "metadata": {},
   "source": [
    "## Hyperparameters\n",
    "\n",
    "The Hyperparameters: \"batch_size\" and \"number_epochs\" is self-explanatory. \n",
    "\n",
    "For the learning rate we will use a scheduler that quickly increases the learning rate for the first few \n",
    "epochs and afterwards decrease it using a cosine function. We do this because smaller values yield slow \n",
    "learning speed, while large values may result in unpredictable behavior during training \n",
    "([Source](https://pytorch.org/tutorials/beginner/basics/optimization_tutorial.html))"
   ]
  },
  {
   "cell_type": "code",
   "execution_count": 7,
   "metadata": {},
   "outputs": [],
   "source": [
    "batch_size = 8\n",
    "number_epochs = 40\n",
    "\n",
    "learning_rate_scheduler = CosineScheduler(\n",
    "    number_updates_total = number_epochs,\n",
    "    number_updates_to_max_lr = 10,\n",
    "    start_learning_rate = 2.5 * 1e-5,\n",
    "    max_learning_rate = 1 * 1e-4,\n",
    "    end_learning_rate = 5 * 1e-5\n",
    ")"
   ]
  },
  {
   "cell_type": "markdown",
   "metadata": {},
   "source": [
    "## Preparing data for training with DataLoaders"
   ]
  },
  {
   "cell_type": "code",
   "execution_count": 8,
   "metadata": {},
   "outputs": [],
   "source": [
    "shhs_train_dataloader = DataLoader(shhs_training_data, batch_size = batch_size, shuffle=True)\n",
    "shhs_validation_dataloader = DataLoader(shhs_validation_data, batch_size = batch_size, shuffle=True)\n",
    "shhs_test_dataloader = DataLoader(shhs_test_data, batch_size = batch_size, shuffle=True)"
   ]
  },
  {
   "cell_type": "code",
   "execution_count": null,
   "metadata": {},
   "outputs": [],
   "source": [
    "gif_train_dataloader = DataLoader(gif_training_data, batch_size = batch_size, shuffle=True)\n",
    "gif_validation_dataloader = DataLoader(gif_validation_data, batch_size = batch_size, shuffle=True)\n",
    "gif_test_dataloader = DataLoader(gif_test_data, batch_size = batch_size, shuffle=True)"
   ]
  },
  {
   "cell_type": "markdown",
   "metadata": {},
   "source": [
    "## Setting Device"
   ]
  },
  {
   "cell_type": "code",
   "execution_count": 9,
   "metadata": {},
   "outputs": [
    {
     "name": "stdout",
     "output_type": "stream",
     "text": [
      "\n",
      "Using mps device\n"
     ]
    }
   ],
   "source": [
    "# Get cpu, gpu or mps device for training.\n",
    "device = (\n",
    "    \"cuda\"\n",
    "    if torch.cuda.is_available()\n",
    "    else \"mps\"\n",
    "    if torch.backends.mps.is_available()\n",
    "    else \"cpu\"\n",
    ")\n",
    "print(f\"\\nUsing {device} device\")"
   ]
  },
  {
   "cell_type": "markdown",
   "metadata": {},
   "source": [
    "## Initialize Neural Network Model"
   ]
  },
  {
   "cell_type": "code",
   "execution_count": 10,
   "metadata": {},
   "outputs": [
    {
     "data": {
      "text/plain": [
       "SleepStageModel(\n",
       "  (rri_signal_learning): Sequential(\n",
       "    (0): Conv1d(1, 2, kernel_size=(3,), stride=(1,), padding=same)\n",
       "    (1): ReLU()\n",
       "    (2): MaxPool1d(kernel_size=2, stride=2, padding=0, dilation=1, ceil_mode=False)\n",
       "    (3): BatchNorm1d(2, eps=1e-05, momentum=0.1, affine=True, track_running_stats=True)\n",
       "    (4): Conv1d(2, 4, kernel_size=(3,), stride=(1,), padding=same)\n",
       "    (5): ReLU()\n",
       "    (6): MaxPool1d(kernel_size=2, stride=2, padding=0, dilation=1, ceil_mode=False)\n",
       "    (7): BatchNorm1d(4, eps=1e-05, momentum=0.1, affine=True, track_running_stats=True)\n",
       "    (8): Conv1d(4, 8, kernel_size=(3,), stride=(1,), padding=same)\n",
       "    (9): ReLU()\n",
       "    (10): MaxPool1d(kernel_size=2, stride=2, padding=0, dilation=1, ceil_mode=False)\n",
       "    (11): BatchNorm1d(8, eps=1e-05, momentum=0.1, affine=True, track_running_stats=True)\n",
       "  )\n",
       "  (mad_signal_learning): Sequential(\n",
       "    (0): Conv1d(1, 2, kernel_size=(3,), stride=(1,), padding=same)\n",
       "    (1): ReLU()\n",
       "    (2): MaxPool1d(kernel_size=2, stride=2, padding=0, dilation=1, ceil_mode=False)\n",
       "    (3): BatchNorm1d(2, eps=1e-05, momentum=0.1, affine=True, track_running_stats=True)\n",
       "    (4): Conv1d(2, 4, kernel_size=(3,), stride=(1,), padding=same)\n",
       "    (5): ReLU()\n",
       "    (6): MaxPool1d(kernel_size=2, stride=2, padding=0, dilation=1, ceil_mode=False)\n",
       "    (7): BatchNorm1d(4, eps=1e-05, momentum=0.1, affine=True, track_running_stats=True)\n",
       "    (8): Conv1d(4, 8, kernel_size=(3,), stride=(1,), padding=same)\n",
       "    (9): ReLU()\n",
       "    (10): MaxPool1d(kernel_size=2, stride=2, padding=0, dilation=1, ceil_mode=False)\n",
       "    (11): BatchNorm1d(8, eps=1e-05, momentum=0.1, affine=True, track_running_stats=True)\n",
       "  )\n",
       "  (flatten): Flatten(start_dim=1, end_dim=-1)\n",
       "  (linear): Linear(in_features=600, out_features=128, bias=True)\n",
       "  (window_feature_learning): Sequential(\n",
       "    (0): ReLU()\n",
       "    (1): Conv1d(128, 128, kernel_size=(7,), stride=(1,), padding=same, dilation=(2,))\n",
       "    (2): Dropout(p=0.2, inplace=False)\n",
       "    (3): ReLU()\n",
       "    (4): Conv1d(128, 128, kernel_size=(7,), stride=(1,), padding=same, dilation=(4,))\n",
       "    (5): Dropout(p=0.2, inplace=False)\n",
       "    (6): ReLU()\n",
       "    (7): Conv1d(128, 128, kernel_size=(7,), stride=(1,), padding=same, dilation=(6,))\n",
       "    (8): Dropout(p=0.2, inplace=False)\n",
       "    (9): ReLU()\n",
       "    (10): Conv1d(128, 128, kernel_size=(7,), stride=(1,), padding=same, dilation=(8,))\n",
       "    (11): Dropout(p=0.2, inplace=False)\n",
       "    (12): ReLU()\n",
       "    (13): Conv1d(128, 128, kernel_size=(7,), stride=(1,), padding=same, dilation=(2,))\n",
       "    (14): Dropout(p=0.2, inplace=False)\n",
       "    (15): ReLU()\n",
       "    (16): Conv1d(128, 128, kernel_size=(7,), stride=(1,), padding=same, dilation=(4,))\n",
       "    (17): Dropout(p=0.2, inplace=False)\n",
       "    (18): ReLU()\n",
       "    (19): Conv1d(128, 128, kernel_size=(7,), stride=(1,), padding=same, dilation=(6,))\n",
       "    (20): Dropout(p=0.2, inplace=False)\n",
       "    (21): ReLU()\n",
       "    (22): Conv1d(128, 128, kernel_size=(7,), stride=(1,), padding=same, dilation=(8,))\n",
       "    (23): Dropout(p=0.2, inplace=False)\n",
       "    (24): Conv1d(128, 5, kernel_size=(1,), stride=(1,))\n",
       "  )\n",
       ")"
      ]
     },
     "execution_count": 10,
     "metadata": {},
     "output_type": "execute_result"
    }
   ],
   "source": [
    "nn_model = SleepStageModel()\n",
    "nn_model.to(device)"
   ]
  },
  {
   "cell_type": "markdown",
   "metadata": {},
   "source": [
    "## Loss and Optimizer Function"
   ]
  },
  {
   "cell_type": "code",
   "execution_count": 11,
   "metadata": {},
   "outputs": [],
   "source": [
    "loss_function = nn.CrossEntropyLoss()\n",
    "optimizer_function = optim.Adam"
   ]
  },
  {
   "cell_type": "markdown",
   "metadata": {},
   "source": [
    "## Training Neural Network Model"
   ]
  },
  {
   "cell_type": "code",
   "execution_count": 18,
   "metadata": {},
   "outputs": [
    {
     "name": "stdout",
     "output_type": "stream",
     "text": [
      "Epoch 1\n",
      "-------------------------------\n",
      "torch.Size([8, 1, 1197, 480]) torch.Size([8, 1197]) None\n"
     ]
    },
    {
     "ename": "RuntimeError",
     "evalue": "expected scalar type Double but found Float",
     "output_type": "error",
     "traceback": [
      "\u001b[0;31m---------------------------------------------------------------------------\u001b[0m",
      "\u001b[0;31mRuntimeError\u001b[0m                              Traceback (most recent call last)",
      "Cell \u001b[0;32mIn[18], line 3\u001b[0m\n\u001b[1;32m      1\u001b[0m \u001b[38;5;28;01mfor\u001b[39;00m t \u001b[38;5;129;01min\u001b[39;00m \u001b[38;5;28mrange\u001b[39m(number_epochs):\n\u001b[1;32m      2\u001b[0m     \u001b[38;5;28mprint\u001b[39m(\u001b[38;5;124mf\u001b[39m\u001b[38;5;124m\"\u001b[39m\u001b[38;5;124mEpoch \u001b[39m\u001b[38;5;132;01m{\u001b[39;00mt\u001b[38;5;241m+\u001b[39m\u001b[38;5;241m1\u001b[39m\u001b[38;5;132;01m}\u001b[39;00m\u001b[38;5;130;01m\\n\u001b[39;00m\u001b[38;5;124m-------------------------------\u001b[39m\u001b[38;5;124m\"\u001b[39m)\n\u001b[0;32m----> 3\u001b[0m     \u001b[43mtrain_loop\u001b[49m\u001b[43m(\u001b[49m\n\u001b[1;32m      4\u001b[0m \u001b[43m        \u001b[49m\u001b[43mdataloader\u001b[49m\u001b[43m \u001b[49m\u001b[38;5;241;43m=\u001b[39;49m\u001b[43m \u001b[49m\u001b[43mshhs_train_dataloader\u001b[49m\u001b[43m,\u001b[49m\n\u001b[1;32m      5\u001b[0m \u001b[43m        \u001b[49m\u001b[43mmodel\u001b[49m\u001b[43m \u001b[49m\u001b[38;5;241;43m=\u001b[39;49m\u001b[43m \u001b[49m\u001b[43mnn_model\u001b[49m\u001b[43m,\u001b[49m\n\u001b[1;32m      6\u001b[0m \u001b[43m        \u001b[49m\u001b[43mdevice\u001b[49m\u001b[43m \u001b[49m\u001b[38;5;241;43m=\u001b[39;49m\u001b[43m \u001b[49m\u001b[43mdevice\u001b[49m\u001b[43m,\u001b[49m\n\u001b[1;32m      7\u001b[0m \u001b[43m        \u001b[49m\u001b[43mloss_fn\u001b[49m\u001b[43m \u001b[49m\u001b[38;5;241;43m=\u001b[39;49m\u001b[43m \u001b[49m\u001b[43mloss_function\u001b[49m\u001b[43m,\u001b[49m\n\u001b[1;32m      8\u001b[0m \u001b[43m        \u001b[49m\u001b[43moptimizer_fn\u001b[49m\u001b[43m \u001b[49m\u001b[38;5;241;43m=\u001b[39;49m\u001b[43m \u001b[49m\u001b[43moptimizer_function\u001b[49m\u001b[43m,\u001b[49m\n\u001b[1;32m      9\u001b[0m \u001b[43m        \u001b[49m\u001b[43mlr_scheduler\u001b[49m\u001b[43m \u001b[49m\u001b[38;5;241;43m=\u001b[39;49m\u001b[43m \u001b[49m\u001b[43mlearning_rate_scheduler\u001b[49m\u001b[43m,\u001b[49m\n\u001b[1;32m     10\u001b[0m \u001b[43m        \u001b[49m\u001b[43mcurrent_epoch\u001b[49m\u001b[43m \u001b[49m\u001b[38;5;241;43m=\u001b[39;49m\u001b[43m \u001b[49m\u001b[43mt\u001b[49m\u001b[43m,\u001b[49m\n\u001b[1;32m     11\u001b[0m \u001b[43m        \u001b[49m\u001b[43mbatch_size\u001b[49m\u001b[43m \u001b[49m\u001b[38;5;241;43m=\u001b[39;49m\u001b[43m \u001b[49m\u001b[43mbatch_size\u001b[49m\u001b[43m,\u001b[49m\n\u001b[1;32m     12\u001b[0m \u001b[43m    \u001b[49m\u001b[43m)\u001b[49m\n\u001b[1;32m     13\u001b[0m     test_loop(\n\u001b[1;32m     14\u001b[0m         dataloader \u001b[38;5;241m=\u001b[39m shhs_validation_dataloader,\n\u001b[1;32m     15\u001b[0m         model \u001b[38;5;241m=\u001b[39m nn_model,\n\u001b[1;32m     16\u001b[0m         device \u001b[38;5;241m=\u001b[39m device,\n\u001b[1;32m     17\u001b[0m         loss_fn \u001b[38;5;241m=\u001b[39m loss_function,\n\u001b[1;32m     18\u001b[0m     )\n",
      "File \u001b[0;32m~/Desktop/Sleep_Phase_Prediction/neural_network_model.py:503\u001b[0m, in \u001b[0;36mtrain_loop\u001b[0;34m(dataloader, model, device, loss_fn, optimizer_fn, lr_scheduler, current_epoch, batch_size)\u001b[0m\n\u001b[1;32m    500\u001b[0m optimizer \u001b[38;5;241m=\u001b[39m optimizer_fn(model\u001b[38;5;241m.\u001b[39mparameters(), lr\u001b[38;5;241m=\u001b[39mlr_scheduler(current_epoch))\n\u001b[1;32m    502\u001b[0m \u001b[38;5;66;03m# Compute prediction and loss\u001b[39;00m\n\u001b[0;32m--> 503\u001b[0m pred \u001b[38;5;241m=\u001b[39m \u001b[43mmodel\u001b[49m\u001b[43m(\u001b[49m\u001b[43mrri\u001b[49m\u001b[43m,\u001b[49m\u001b[43m \u001b[49m\u001b[43mmad\u001b[49m\u001b[43m)\u001b[49m\n\u001b[1;32m    504\u001b[0m loss \u001b[38;5;241m=\u001b[39m loss_fn(pred, slp)\n\u001b[1;32m    506\u001b[0m \u001b[38;5;66;03m# Backpropagation\u001b[39;00m\n",
      "File \u001b[0;32m~/mambaforge/envs/master/lib/python3.12/site-packages/torch/nn/modules/module.py:1532\u001b[0m, in \u001b[0;36mModule._wrapped_call_impl\u001b[0;34m(self, *args, **kwargs)\u001b[0m\n\u001b[1;32m   1530\u001b[0m     \u001b[38;5;28;01mreturn\u001b[39;00m \u001b[38;5;28mself\u001b[39m\u001b[38;5;241m.\u001b[39m_compiled_call_impl(\u001b[38;5;241m*\u001b[39margs, \u001b[38;5;241m*\u001b[39m\u001b[38;5;241m*\u001b[39mkwargs)  \u001b[38;5;66;03m# type: ignore[misc]\u001b[39;00m\n\u001b[1;32m   1531\u001b[0m \u001b[38;5;28;01melse\u001b[39;00m:\n\u001b[0;32m-> 1532\u001b[0m     \u001b[38;5;28;01mreturn\u001b[39;00m \u001b[38;5;28;43mself\u001b[39;49m\u001b[38;5;241;43m.\u001b[39;49m\u001b[43m_call_impl\u001b[49m\u001b[43m(\u001b[49m\u001b[38;5;241;43m*\u001b[39;49m\u001b[43margs\u001b[49m\u001b[43m,\u001b[49m\u001b[43m \u001b[49m\u001b[38;5;241;43m*\u001b[39;49m\u001b[38;5;241;43m*\u001b[39;49m\u001b[43mkwargs\u001b[49m\u001b[43m)\u001b[49m\n",
      "File \u001b[0;32m~/mambaforge/envs/master/lib/python3.12/site-packages/torch/nn/modules/module.py:1541\u001b[0m, in \u001b[0;36mModule._call_impl\u001b[0;34m(self, *args, **kwargs)\u001b[0m\n\u001b[1;32m   1536\u001b[0m \u001b[38;5;66;03m# If we don't have any hooks, we want to skip the rest of the logic in\u001b[39;00m\n\u001b[1;32m   1537\u001b[0m \u001b[38;5;66;03m# this function, and just call forward.\u001b[39;00m\n\u001b[1;32m   1538\u001b[0m \u001b[38;5;28;01mif\u001b[39;00m \u001b[38;5;129;01mnot\u001b[39;00m (\u001b[38;5;28mself\u001b[39m\u001b[38;5;241m.\u001b[39m_backward_hooks \u001b[38;5;129;01mor\u001b[39;00m \u001b[38;5;28mself\u001b[39m\u001b[38;5;241m.\u001b[39m_backward_pre_hooks \u001b[38;5;129;01mor\u001b[39;00m \u001b[38;5;28mself\u001b[39m\u001b[38;5;241m.\u001b[39m_forward_hooks \u001b[38;5;129;01mor\u001b[39;00m \u001b[38;5;28mself\u001b[39m\u001b[38;5;241m.\u001b[39m_forward_pre_hooks\n\u001b[1;32m   1539\u001b[0m         \u001b[38;5;129;01mor\u001b[39;00m _global_backward_pre_hooks \u001b[38;5;129;01mor\u001b[39;00m _global_backward_hooks\n\u001b[1;32m   1540\u001b[0m         \u001b[38;5;129;01mor\u001b[39;00m _global_forward_hooks \u001b[38;5;129;01mor\u001b[39;00m _global_forward_pre_hooks):\n\u001b[0;32m-> 1541\u001b[0m     \u001b[38;5;28;01mreturn\u001b[39;00m \u001b[43mforward_call\u001b[49m\u001b[43m(\u001b[49m\u001b[38;5;241;43m*\u001b[39;49m\u001b[43margs\u001b[49m\u001b[43m,\u001b[49m\u001b[43m \u001b[49m\u001b[38;5;241;43m*\u001b[39;49m\u001b[38;5;241;43m*\u001b[39;49m\u001b[43mkwargs\u001b[49m\u001b[43m)\u001b[49m\n\u001b[1;32m   1543\u001b[0m \u001b[38;5;28;01mtry\u001b[39;00m:\n\u001b[1;32m   1544\u001b[0m     result \u001b[38;5;241m=\u001b[39m \u001b[38;5;28;01mNone\u001b[39;00m\n",
      "File \u001b[0;32m~/Desktop/Sleep_Phase_Prediction/neural_network_model.py:322\u001b[0m, in \u001b[0;36mSleepStageModel.forward\u001b[0;34m(self, rri_signal, mad_signal)\u001b[0m\n\u001b[1;32m    317\u001b[0m \u001b[38;5;250m\u001b[39m\u001b[38;5;124;03m\"\"\"\u001b[39;00m\n\u001b[1;32m    318\u001b[0m \u001b[38;5;124;03mSignal Feature Learning\u001b[39;00m\n\u001b[1;32m    319\u001b[0m \u001b[38;5;124;03m\"\"\"\u001b[39;00m\n\u001b[1;32m    321\u001b[0m \u001b[38;5;66;03m# Process RRI Signal\u001b[39;00m\n\u001b[0;32m--> 322\u001b[0m rri_features \u001b[38;5;241m=\u001b[39m \u001b[38;5;28;43mself\u001b[39;49m\u001b[38;5;241;43m.\u001b[39;49m\u001b[43mrri_signal_learning\u001b[49m\u001b[43m(\u001b[49m\u001b[43mrri_signal\u001b[49m\u001b[43m)\u001b[49m\n\u001b[1;32m    323\u001b[0m \u001b[38;5;66;03m#ecg_features = ecg_features.view(batch_size, num_windows, -1)  # Separate batch and windows dimensions\u001b[39;00m\n\u001b[1;32m    324\u001b[0m \n\u001b[1;32m    325\u001b[0m \u001b[38;5;66;03m# Process MAD Signal or create 0 tensor if MAD signal is not provided\u001b[39;00m\n\u001b[1;32m    326\u001b[0m \u001b[38;5;28;01mif\u001b[39;00m mad_signal \u001b[38;5;129;01mis\u001b[39;00m \u001b[38;5;28;01mNone\u001b[39;00m:\n",
      "File \u001b[0;32m~/mambaforge/envs/master/lib/python3.12/site-packages/torch/nn/modules/module.py:1532\u001b[0m, in \u001b[0;36mModule._wrapped_call_impl\u001b[0;34m(self, *args, **kwargs)\u001b[0m\n\u001b[1;32m   1530\u001b[0m     \u001b[38;5;28;01mreturn\u001b[39;00m \u001b[38;5;28mself\u001b[39m\u001b[38;5;241m.\u001b[39m_compiled_call_impl(\u001b[38;5;241m*\u001b[39margs, \u001b[38;5;241m*\u001b[39m\u001b[38;5;241m*\u001b[39mkwargs)  \u001b[38;5;66;03m# type: ignore[misc]\u001b[39;00m\n\u001b[1;32m   1531\u001b[0m \u001b[38;5;28;01melse\u001b[39;00m:\n\u001b[0;32m-> 1532\u001b[0m     \u001b[38;5;28;01mreturn\u001b[39;00m \u001b[38;5;28;43mself\u001b[39;49m\u001b[38;5;241;43m.\u001b[39;49m\u001b[43m_call_impl\u001b[49m\u001b[43m(\u001b[49m\u001b[38;5;241;43m*\u001b[39;49m\u001b[43margs\u001b[49m\u001b[43m,\u001b[49m\u001b[43m \u001b[49m\u001b[38;5;241;43m*\u001b[39;49m\u001b[38;5;241;43m*\u001b[39;49m\u001b[43mkwargs\u001b[49m\u001b[43m)\u001b[49m\n",
      "File \u001b[0;32m~/mambaforge/envs/master/lib/python3.12/site-packages/torch/nn/modules/module.py:1541\u001b[0m, in \u001b[0;36mModule._call_impl\u001b[0;34m(self, *args, **kwargs)\u001b[0m\n\u001b[1;32m   1536\u001b[0m \u001b[38;5;66;03m# If we don't have any hooks, we want to skip the rest of the logic in\u001b[39;00m\n\u001b[1;32m   1537\u001b[0m \u001b[38;5;66;03m# this function, and just call forward.\u001b[39;00m\n\u001b[1;32m   1538\u001b[0m \u001b[38;5;28;01mif\u001b[39;00m \u001b[38;5;129;01mnot\u001b[39;00m (\u001b[38;5;28mself\u001b[39m\u001b[38;5;241m.\u001b[39m_backward_hooks \u001b[38;5;129;01mor\u001b[39;00m \u001b[38;5;28mself\u001b[39m\u001b[38;5;241m.\u001b[39m_backward_pre_hooks \u001b[38;5;129;01mor\u001b[39;00m \u001b[38;5;28mself\u001b[39m\u001b[38;5;241m.\u001b[39m_forward_hooks \u001b[38;5;129;01mor\u001b[39;00m \u001b[38;5;28mself\u001b[39m\u001b[38;5;241m.\u001b[39m_forward_pre_hooks\n\u001b[1;32m   1539\u001b[0m         \u001b[38;5;129;01mor\u001b[39;00m _global_backward_pre_hooks \u001b[38;5;129;01mor\u001b[39;00m _global_backward_hooks\n\u001b[1;32m   1540\u001b[0m         \u001b[38;5;129;01mor\u001b[39;00m _global_forward_hooks \u001b[38;5;129;01mor\u001b[39;00m _global_forward_pre_hooks):\n\u001b[0;32m-> 1541\u001b[0m     \u001b[38;5;28;01mreturn\u001b[39;00m \u001b[43mforward_call\u001b[49m\u001b[43m(\u001b[49m\u001b[38;5;241;43m*\u001b[39;49m\u001b[43margs\u001b[49m\u001b[43m,\u001b[49m\u001b[43m \u001b[49m\u001b[38;5;241;43m*\u001b[39;49m\u001b[38;5;241;43m*\u001b[39;49m\u001b[43mkwargs\u001b[49m\u001b[43m)\u001b[49m\n\u001b[1;32m   1543\u001b[0m \u001b[38;5;28;01mtry\u001b[39;00m:\n\u001b[1;32m   1544\u001b[0m     result \u001b[38;5;241m=\u001b[39m \u001b[38;5;28;01mNone\u001b[39;00m\n",
      "File \u001b[0;32m~/mambaforge/envs/master/lib/python3.12/site-packages/torch/nn/modules/container.py:217\u001b[0m, in \u001b[0;36mSequential.forward\u001b[0;34m(self, input)\u001b[0m\n\u001b[1;32m    215\u001b[0m \u001b[38;5;28;01mdef\u001b[39;00m \u001b[38;5;21mforward\u001b[39m(\u001b[38;5;28mself\u001b[39m, \u001b[38;5;28minput\u001b[39m):\n\u001b[1;32m    216\u001b[0m     \u001b[38;5;28;01mfor\u001b[39;00m module \u001b[38;5;129;01min\u001b[39;00m \u001b[38;5;28mself\u001b[39m:\n\u001b[0;32m--> 217\u001b[0m         \u001b[38;5;28minput\u001b[39m \u001b[38;5;241m=\u001b[39m \u001b[43mmodule\u001b[49m\u001b[43m(\u001b[49m\u001b[38;5;28;43minput\u001b[39;49m\u001b[43m)\u001b[49m\n\u001b[1;32m    218\u001b[0m     \u001b[38;5;28;01mreturn\u001b[39;00m \u001b[38;5;28minput\u001b[39m\n",
      "File \u001b[0;32m~/mambaforge/envs/master/lib/python3.12/site-packages/torch/nn/modules/module.py:1532\u001b[0m, in \u001b[0;36mModule._wrapped_call_impl\u001b[0;34m(self, *args, **kwargs)\u001b[0m\n\u001b[1;32m   1530\u001b[0m     \u001b[38;5;28;01mreturn\u001b[39;00m \u001b[38;5;28mself\u001b[39m\u001b[38;5;241m.\u001b[39m_compiled_call_impl(\u001b[38;5;241m*\u001b[39margs, \u001b[38;5;241m*\u001b[39m\u001b[38;5;241m*\u001b[39mkwargs)  \u001b[38;5;66;03m# type: ignore[misc]\u001b[39;00m\n\u001b[1;32m   1531\u001b[0m \u001b[38;5;28;01melse\u001b[39;00m:\n\u001b[0;32m-> 1532\u001b[0m     \u001b[38;5;28;01mreturn\u001b[39;00m \u001b[38;5;28;43mself\u001b[39;49m\u001b[38;5;241;43m.\u001b[39;49m\u001b[43m_call_impl\u001b[49m\u001b[43m(\u001b[49m\u001b[38;5;241;43m*\u001b[39;49m\u001b[43margs\u001b[49m\u001b[43m,\u001b[49m\u001b[43m \u001b[49m\u001b[38;5;241;43m*\u001b[39;49m\u001b[38;5;241;43m*\u001b[39;49m\u001b[43mkwargs\u001b[49m\u001b[43m)\u001b[49m\n",
      "File \u001b[0;32m~/mambaforge/envs/master/lib/python3.12/site-packages/torch/nn/modules/module.py:1541\u001b[0m, in \u001b[0;36mModule._call_impl\u001b[0;34m(self, *args, **kwargs)\u001b[0m\n\u001b[1;32m   1536\u001b[0m \u001b[38;5;66;03m# If we don't have any hooks, we want to skip the rest of the logic in\u001b[39;00m\n\u001b[1;32m   1537\u001b[0m \u001b[38;5;66;03m# this function, and just call forward.\u001b[39;00m\n\u001b[1;32m   1538\u001b[0m \u001b[38;5;28;01mif\u001b[39;00m \u001b[38;5;129;01mnot\u001b[39;00m (\u001b[38;5;28mself\u001b[39m\u001b[38;5;241m.\u001b[39m_backward_hooks \u001b[38;5;129;01mor\u001b[39;00m \u001b[38;5;28mself\u001b[39m\u001b[38;5;241m.\u001b[39m_backward_pre_hooks \u001b[38;5;129;01mor\u001b[39;00m \u001b[38;5;28mself\u001b[39m\u001b[38;5;241m.\u001b[39m_forward_hooks \u001b[38;5;129;01mor\u001b[39;00m \u001b[38;5;28mself\u001b[39m\u001b[38;5;241m.\u001b[39m_forward_pre_hooks\n\u001b[1;32m   1539\u001b[0m         \u001b[38;5;129;01mor\u001b[39;00m _global_backward_pre_hooks \u001b[38;5;129;01mor\u001b[39;00m _global_backward_hooks\n\u001b[1;32m   1540\u001b[0m         \u001b[38;5;129;01mor\u001b[39;00m _global_forward_hooks \u001b[38;5;129;01mor\u001b[39;00m _global_forward_pre_hooks):\n\u001b[0;32m-> 1541\u001b[0m     \u001b[38;5;28;01mreturn\u001b[39;00m \u001b[43mforward_call\u001b[49m\u001b[43m(\u001b[49m\u001b[38;5;241;43m*\u001b[39;49m\u001b[43margs\u001b[49m\u001b[43m,\u001b[49m\u001b[43m \u001b[49m\u001b[38;5;241;43m*\u001b[39;49m\u001b[38;5;241;43m*\u001b[39;49m\u001b[43mkwargs\u001b[49m\u001b[43m)\u001b[49m\n\u001b[1;32m   1543\u001b[0m \u001b[38;5;28;01mtry\u001b[39;00m:\n\u001b[1;32m   1544\u001b[0m     result \u001b[38;5;241m=\u001b[39m \u001b[38;5;28;01mNone\u001b[39;00m\n",
      "File \u001b[0;32m~/mambaforge/envs/master/lib/python3.12/site-packages/torch/nn/modules/conv.py:310\u001b[0m, in \u001b[0;36mConv1d.forward\u001b[0;34m(self, input)\u001b[0m\n\u001b[1;32m    309\u001b[0m \u001b[38;5;28;01mdef\u001b[39;00m \u001b[38;5;21mforward\u001b[39m(\u001b[38;5;28mself\u001b[39m, \u001b[38;5;28minput\u001b[39m: Tensor) \u001b[38;5;241m-\u001b[39m\u001b[38;5;241m>\u001b[39m Tensor:\n\u001b[0;32m--> 310\u001b[0m     \u001b[38;5;28;01mreturn\u001b[39;00m \u001b[38;5;28;43mself\u001b[39;49m\u001b[38;5;241;43m.\u001b[39;49m\u001b[43m_conv_forward\u001b[49m\u001b[43m(\u001b[49m\u001b[38;5;28;43minput\u001b[39;49m\u001b[43m,\u001b[49m\u001b[43m \u001b[49m\u001b[38;5;28;43mself\u001b[39;49m\u001b[38;5;241;43m.\u001b[39;49m\u001b[43mweight\u001b[49m\u001b[43m,\u001b[49m\u001b[43m \u001b[49m\u001b[38;5;28;43mself\u001b[39;49m\u001b[38;5;241;43m.\u001b[39;49m\u001b[43mbias\u001b[49m\u001b[43m)\u001b[49m\n",
      "File \u001b[0;32m~/mambaforge/envs/master/lib/python3.12/site-packages/torch/nn/modules/conv.py:306\u001b[0m, in \u001b[0;36mConv1d._conv_forward\u001b[0;34m(self, input, weight, bias)\u001b[0m\n\u001b[1;32m    302\u001b[0m \u001b[38;5;28;01mif\u001b[39;00m \u001b[38;5;28mself\u001b[39m\u001b[38;5;241m.\u001b[39mpadding_mode \u001b[38;5;241m!=\u001b[39m \u001b[38;5;124m'\u001b[39m\u001b[38;5;124mzeros\u001b[39m\u001b[38;5;124m'\u001b[39m:\n\u001b[1;32m    303\u001b[0m     \u001b[38;5;28;01mreturn\u001b[39;00m F\u001b[38;5;241m.\u001b[39mconv1d(F\u001b[38;5;241m.\u001b[39mpad(\u001b[38;5;28minput\u001b[39m, \u001b[38;5;28mself\u001b[39m\u001b[38;5;241m.\u001b[39m_reversed_padding_repeated_twice, mode\u001b[38;5;241m=\u001b[39m\u001b[38;5;28mself\u001b[39m\u001b[38;5;241m.\u001b[39mpadding_mode),\n\u001b[1;32m    304\u001b[0m                     weight, bias, \u001b[38;5;28mself\u001b[39m\u001b[38;5;241m.\u001b[39mstride,\n\u001b[1;32m    305\u001b[0m                     _single(\u001b[38;5;241m0\u001b[39m), \u001b[38;5;28mself\u001b[39m\u001b[38;5;241m.\u001b[39mdilation, \u001b[38;5;28mself\u001b[39m\u001b[38;5;241m.\u001b[39mgroups)\n\u001b[0;32m--> 306\u001b[0m \u001b[38;5;28;01mreturn\u001b[39;00m \u001b[43mF\u001b[49m\u001b[38;5;241;43m.\u001b[39;49m\u001b[43mconv1d\u001b[49m\u001b[43m(\u001b[49m\u001b[38;5;28;43minput\u001b[39;49m\u001b[43m,\u001b[49m\u001b[43m \u001b[49m\u001b[43mweight\u001b[49m\u001b[43m,\u001b[49m\u001b[43m \u001b[49m\u001b[43mbias\u001b[49m\u001b[43m,\u001b[49m\u001b[43m \u001b[49m\u001b[38;5;28;43mself\u001b[39;49m\u001b[38;5;241;43m.\u001b[39;49m\u001b[43mstride\u001b[49m\u001b[43m,\u001b[49m\n\u001b[1;32m    307\u001b[0m \u001b[43m                \u001b[49m\u001b[38;5;28;43mself\u001b[39;49m\u001b[38;5;241;43m.\u001b[39;49m\u001b[43mpadding\u001b[49m\u001b[43m,\u001b[49m\u001b[43m \u001b[49m\u001b[38;5;28;43mself\u001b[39;49m\u001b[38;5;241;43m.\u001b[39;49m\u001b[43mdilation\u001b[49m\u001b[43m,\u001b[49m\u001b[43m \u001b[49m\u001b[38;5;28;43mself\u001b[39;49m\u001b[38;5;241;43m.\u001b[39;49m\u001b[43mgroups\u001b[49m\u001b[43m)\u001b[49m\n",
      "\u001b[0;31mRuntimeError\u001b[0m: expected scalar type Double but found Float"
     ]
    }
   ],
   "source": [
    "for t in range(number_epochs):\n",
    "    print(f\"Epoch {t+1}\\n-------------------------------\")\n",
    "    train_loop(\n",
    "        dataloader = shhs_train_dataloader,\n",
    "        model = nn_model,\n",
    "        device = device,\n",
    "        loss_fn = loss_function,\n",
    "        optimizer_fn = optimizer_function,\n",
    "        lr_scheduler = learning_rate_scheduler,\n",
    "        current_epoch = t,\n",
    "        batch_size = batch_size,\n",
    "    )\n",
    "    test_loop(\n",
    "        dataloader = shhs_validation_dataloader,\n",
    "        model = nn_model,\n",
    "        device = device,\n",
    "        loss_fn = loss_function,\n",
    "    )"
   ]
  },
  {
   "cell_type": "code",
   "execution_count": 23,
   "metadata": {},
   "outputs": [
    {
     "ename": "SystemExit",
     "evalue": "",
     "output_type": "error",
     "traceback": [
      "An exception has occurred, use %tb to see the full traceback.\n",
      "\u001b[0;31mSystemExit\u001b[0m\n"
     ]
    },
    {
     "name": "stderr",
     "output_type": "stream",
     "text": [
      "/Users/propeter/mambaforge/envs/master/lib/python3.12/site-packages/IPython/core/interactiveshell.py:3585: UserWarning: To exit: use 'exit', 'quit', or Ctrl-D.\n",
      "  warn(\"To exit: use 'exit', 'quit', or Ctrl-D.\", stacklevel=1)\n"
     ]
    }
   ],
   "source": [
    "# params_to_update = signal_normalization_parameters\n",
    "params_to_update = {\n",
    "    \"RRI_inlier_interval\": [0.3, 2],\n",
    "    \"MAD_inlier_interval\": [None, None],\n",
    "}\n",
    "\n",
    "paths = [\"SSM_Artifect/Project_Configuration.pkl\", \"SSM_no_overlap/Project_Configuration.pkl\", \"SSM_Original/Project_Configuration.pkl\", \"Yao_Artifect/Project_Configuration.pkl\", \"Yao_no_overlap/Project_Configuration.pkl\", \"Yao_Original/Project_Configuration.pkl\"]\n",
    "for path in paths:\n",
    "    with open(path, \"rb\") as f:\n",
    "        project_configuration = pickle.load(f)\n",
    "    \n",
    "    project_configuration.update(params_to_update)\n",
    "\n",
    "    os.remove(path)\n",
    "    save_to_pickle(project_configuration, path)\n",
    "\n",
    "raise SystemExit"
   ]
  },
  {
   "cell_type": "code",
   "execution_count": 14,
   "metadata": {},
   "outputs": [
    {
     "name": "stdout",
     "output_type": "stream",
     "text": [
      "[[1 2 3]\n",
      " [1 2 3]\n",
      " [1 2 3]\n",
      " [1 2 3]]\n",
      "[[1 1 1 1]\n",
      " [2 2 2 2]\n",
      " [3 3 3 3]]\n"
     ]
    }
   ],
   "source": [
    "import numpy as np\n",
    "a = [[1, 2, 3], [1, 2, 3], [1, 2, 3], [1, 2, 3]]\n",
    "a = np.array(a)\n",
    "print(a)\n",
    "a = a.T\n",
    "print(a)"
   ]
  },
  {
   "cell_type": "code",
   "execution_count": 19,
   "metadata": {},
   "outputs": [
    {
     "name": "stdout",
     "output_type": "stream",
     "text": [
      "[1 3 5]\n"
     ]
    }
   ],
   "source": [
    "a = [[1], [3], [5]]\n",
    "a = np.array(a)\n",
    "print(a.T[0])"
   ]
  },
  {
   "cell_type": "code",
   "execution_count": 19,
   "metadata": {},
   "outputs": [
    {
     "name": "stdout",
     "output_type": "stream",
     "text": [
      "hey\n"
     ]
    }
   ],
   "source": [
    "from main import *"
   ]
  },
  {
   "cell_type": "code",
   "execution_count": 25,
   "metadata": {},
   "outputs": [
    {
     "name": "stdout",
     "output_type": "stream",
     "text": [
      "All IDs are unique.\n",
      "\n",
      "Preproccessing datapoints from NAKO dataset (ensuring uniformity):\n",
      "   ✅: 100.0% [██████████████████████] 7365 / 7365 | 7m 51s / 7m 51s (0.1s/it) | \n"
     ]
    }
   ],
   "source": [
    "Process_NAKO_Dataset(\n",
    "    path_to_nako_dataset = \"/Volumes/NaKo-UniHalle/RRI_and_MAD/NAKO-33a.pkl\",\n",
    "    path_to_save_processed_data = \"Processed_NAKO/NAKO-33a.pkl\",\n",
    "    path_to_project_configuration = \"SSM_no_overlap/Project_Configuration.pkl\"\n",
    ")"
   ]
  },
  {
   "cell_type": "code",
   "execution_count": null,
   "metadata": {},
   "outputs": [],
   "source": [
    "main_model_predicting(\n",
    "    neural_network_model = SleepStageModel,\n",
    "    path_to_model_state = \"SSM_no_overlap/Model_State.pth\",\n",
    "    path_to_processed_data = \"/Volumes/NaKo-UniHalle/RRI_and_MAD/NAKO-33a.pkl\",\n",
    "    path_to_project_configuration = \"SSM_no_overlap/Project_Configuration.pkl\",\n",
    "    path_to_save_results = \"Neural_Network/Model_Accuracy.pkl\",\n",
    ")"
   ]
  }
 ],
 "metadata": {
  "kernelspec": {
   "display_name": "master",
   "language": "python",
   "name": "python3"
  },
  "language_info": {
   "codemirror_mode": {
    "name": "ipython",
    "version": 3
   },
   "file_extension": ".py",
   "mimetype": "text/x-python",
   "name": "python",
   "nbconvert_exporter": "python",
   "pygments_lexer": "ipython3",
   "version": "3.12.3"
  }
 },
 "nbformat": 4,
 "nbformat_minor": 2
}
